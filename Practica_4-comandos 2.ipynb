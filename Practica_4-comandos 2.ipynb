{
 "cells": [
  {
   "cell_type": "markdown",
   "metadata": {},
   "source": [
    "# <center> PRACTICA 4"
   ]
  },
  {
   "cell_type": "markdown",
   "metadata": {},
   "source": [
    "# -Estructuras Iterativas"
   ]
  },
  {
   "cell_type": "markdown",
   "metadata": {},
   "source": [
    " ## 1.- Estructura Iterativa- Bucle for"
   ]
  },
  {
   "cell_type": "markdown",
   "metadata": {},
   "source": [
    "## 1.1 - Usamos for"
   ]
  },
  {
   "cell_type": "code",
   "execution_count": 7,
   "metadata": {},
   "outputs": [
    {
     "name": "stdout",
     "output_type": "stream",
     "text": [
      "19\n",
      "11\n",
      "5\n",
      "4\n",
      "15\n",
      "16\n"
     ]
    }
   ],
   "source": [
    "num = [19, 11, 5, 4, 15, 16]\n",
    "for x in num:\n",
    "    print (x)"
   ]
  },
  {
   "cell_type": "code",
   "execution_count": 13,
   "metadata": {},
   "outputs": [
    {
     "name": "stdout",
     "output_type": "stream",
     "text": [
      "J\n",
      "u\n",
      "a\n",
      "n\n",
      "a\n"
     ]
    }
   ],
   "source": [
    "mon=\"Juana\"\n",
    "\n",
    "for variable in mon:\n",
    "    print(variable)"
   ]
  },
  {
   "cell_type": "code",
   "execution_count": 20,
   "metadata": {},
   "outputs": [
    {
     "name": "stdout",
     "output_type": "stream",
     "text": [
      "Mi familia esta compuesta por los siguientes integrantes:\n",
      "\n",
      "Hola Juana, la longitud de tu nombre es de : 5 caracteres.\n",
      "Hola Eusebio, la longitud de tu nombre es de : 7 caracteres.\n",
      "Hola Rosmeri, la longitud de tu nombre es de : 7 caracteres.\n",
      "Hola Cesar, la longitud de tu nombre es de : 5 caracteres.\n"
     ]
    }
   ],
   "source": [
    "print (\"Mi familia esta compuesta por los siguientes integrantes:\\n\"  )\n",
    "for familia in [\"Juana\",\"Eusebio\",\"Rosmeri\",\"Cesar\"]:\n",
    "    print(\"Hola {0}, la longitud de tu nombre es de : {1} caracteres.\".format(familia,len(familia)))"
   ]
  },
  {
   "cell_type": "code",
   "execution_count": 23,
   "metadata": {},
   "outputs": [
    {
     "name": "stdout",
     "output_type": "stream",
     "text": [
      "['plomo', 'rojo', 'amarillo', 'negro']\n"
     ]
    }
   ],
   "source": [
    "color=[\"plomo\",\"azul\",\"rojo\",\"amarillo\", \"negro\",\"verde\"]\n",
    "color_con_r=[]\n",
    "\n",
    "for m in color:\n",
    "    if \"o\" in m:\n",
    "        color_con_r.append(m)\n",
    "\n",
    "print(color_con_r)"
   ]
  },
  {
   "cell_type": "markdown",
   "metadata": {},
   "source": [
    "##  1.2- Funcion range ()"
   ]
  },
  {
   "cell_type": "code",
   "execution_count": 24,
   "metadata": {},
   "outputs": [
    {
     "name": "stdout",
     "output_type": "stream",
     "text": [
      "0\n",
      "1\n",
      "2\n",
      "3\n",
      "4\n",
      "5\n",
      "6\n",
      "7\n",
      "8\n",
      "9\n",
      "10\n",
      "11\n",
      "12\n",
      "13\n",
      "14\n",
      "15\n",
      "16\n",
      "17\n",
      "18\n"
     ]
    }
   ],
   "source": [
    " for i in range(19):\n",
    "    print(i)"
   ]
  },
  {
   "cell_type": "code",
   "execution_count": 25,
   "metadata": {},
   "outputs": [
    {
     "name": "stdout",
     "output_type": "stream",
     "text": [
      "1 2 3 4 5 6 7 8 9 10 "
     ]
    }
   ],
   "source": [
    "for i in range (10):\n",
    "    print (i+ 1, \"\", end=\"\")"
   ]
  },
  {
   "cell_type": "code",
   "execution_count": 26,
   "metadata": {},
   "outputs": [
    {
     "name": "stdout",
     "output_type": "stream",
     "text": [
      "1 2 3 4 5 6 7 8 9 10 "
     ]
    }
   ],
   "source": [
    "for i in range (1,11):\n",
    "    print (i, \"\", end=\"\")"
   ]
  },
  {
   "cell_type": "code",
   "execution_count": 29,
   "metadata": {},
   "outputs": [
    {
     "name": "stdout",
     "output_type": "stream",
     "text": [
      "2 4 6 8 10 "
     ]
    }
   ],
   "source": [
    "for i in range (2, 12, 2):\n",
    "    print (i, \"\", end=\"\")"
   ]
  },
  {
   "cell_type": "code",
   "execution_count": 32,
   "metadata": {},
   "outputs": [
    {
     "name": "stdout",
     "output_type": "stream",
     "text": [
      "20 18 16 14 12 10 8 6 4 2 "
     ]
    }
   ],
   "source": [
    "for i in range (20, 0, -2):\n",
    "    print (i, \"\", end=\"\")"
   ]
  },
  {
   "cell_type": "code",
   "execution_count": 34,
   "metadata": {},
   "outputs": [
    {
     "name": "stdout",
     "output_type": "stream",
     "text": [
      "40 35 30 25 20 15 10 5 0 "
     ]
    }
   ],
   "source": [
    "for i in range (40, -5, -5):\n",
    "    print (i, \"\", end=\"\")"
   ]
  },
  {
   "cell_type": "code",
   "execution_count": 36,
   "metadata": {},
   "outputs": [
    {
     "name": "stdout",
     "output_type": "stream",
     "text": [
      "50 45 40 35 30 25 20 15 10 5 0 "
     ]
    }
   ],
   "source": [
    "for i in range (50, -1, -5):\n",
    "    print (i, \"\", end=\"\")"
   ]
  },
  {
   "cell_type": "markdown",
   "metadata": {},
   "source": [
    "## 1.3-Uso de Break :"
   ]
  },
  {
   "cell_type": "code",
   "execution_count": 40,
   "metadata": {},
   "outputs": [
    {
     "name": "stdout",
     "output_type": "stream",
     "text": [
      "4\n"
     ]
    }
   ],
   "source": [
    "lista=[4,5,19,21,46,39]\n",
    "\n",
    "cont= -1\n",
    "\n",
    "for m in lista:\n",
    "    cont=cont+1\n",
    "    if m == 46:\n",
    "        break\n",
    "    \n",
    "print(cont)"
   ]
  },
  {
   "cell_type": "markdown",
   "metadata": {},
   "source": [
    "## 1.4 Asignacion abreviada"
   ]
  },
  {
   "cell_type": "code",
   "execution_count": 45,
   "metadata": {},
   "outputs": [
    {
     "name": "stdout",
     "output_type": "stream",
     "text": [
      "10\n"
     ]
    }
   ],
   "source": [
    "contador=50\n",
    "\n",
    "contador //= 5\n",
    "\n",
    "print(contador)"
   ]
  },
  {
   "cell_type": "code",
   "execution_count": 48,
   "metadata": {},
   "outputs": [
    {
     "name": "stdout",
     "output_type": "stream",
     "text": [
      "No se encontro el numero 24\n"
     ]
    }
   ],
   "source": [
    "lista=[4,5,19,21,46,39]\n",
    "\n",
    "cont= -1\n",
    "\n",
    "for m in lista:\n",
    "    cont=cont+1\n",
    "    if m == 24:\n",
    "        break\n",
    "    \n",
    "else:\n",
    "    cont=-1\n",
    "    print(\"No se encontro el numero 24\")\n",
    "    \n",
    "if cont >=0:\n",
    "    print(cont)"
   ]
  },
  {
   "cell_type": "markdown",
   "metadata": {},
   "source": [
    "##  1.5- Uso del continue"
   ]
  },
  {
   "cell_type": "code",
   "execution_count": 50,
   "metadata": {},
   "outputs": [
    {
     "name": "stdout",
     "output_type": "stream",
     "text": [
      "16\n",
      "4\n",
      "18\n"
     ]
    }
   ],
   "source": [
    "num=[16,5,19,4,9,18]\n",
    "\n",
    "for p in num:\n",
    "    if p%2 != 0:\n",
    "        continue\n",
    "    print(p)"
   ]
  },
  {
   "cell_type": "markdown",
   "metadata": {},
   "source": [
    "# Termianndo la practica4"
   ]
  }
 ],
 "metadata": {
  "kernelspec": {
   "display_name": "Python 3",
   "language": "python",
   "name": "python3"
  },
  "language_info": {
   "codemirror_mode": {
    "name": "ipython",
    "version": 3
   },
   "file_extension": ".py",
   "mimetype": "text/x-python",
   "name": "python",
   "nbconvert_exporter": "python",
   "pygments_lexer": "ipython3",
   "version": "3.8.12"
  }
 },
 "nbformat": 4,
 "nbformat_minor": 5
}
