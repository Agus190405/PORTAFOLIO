{
 "cells": [
  {
   "cell_type": "markdown",
   "metadata": {},
   "source": [
    "# <center>Practica 5"
   ]
  },
  {
   "cell_type": "markdown",
   "metadata": {},
   "source": [
    "# Estructura Iterativa ‐ Bucle \"while\""
   ]
  },
  {
   "cell_type": "markdown",
   "metadata": {},
   "source": [
    "### 1.- Usamos \"while\""
   ]
  },
  {
   "cell_type": "markdown",
   "metadata": {},
   "source": [
    "### 1.1. Hacer un programa que imprima la tabla del 3 :"
   ]
  },
  {
   "cell_type": "code",
   "execution_count": 4,
   "metadata": {},
   "outputs": [
    {
     "name": "stdout",
     "output_type": "stream",
     "text": [
      "Tabla del numero 3\n",
      " 3 x 0 == 0\n",
      " 3 x 1 == 3\n",
      " 3 x 2 == 6\n",
      " 3 x 3 == 9\n",
      " 3 x 4 == 12\n",
      " 3 x 5 == 15\n",
      " 3 x 6 == 18\n",
      " 3 x 7 == 21\n",
      " 3 x 8 == 24\n",
      " 3 x 9 == 27\n",
      " 3 x 10 == 30\n",
      "\n",
      " Fin de la tabla\n"
     ]
    }
   ],
   "source": [
    "contador = 0\n",
    "print(\"Tabla del numero 3\")\n",
    "\n",
    "while contador <=10:\n",
    "    print(f' 3 x {contador} == {contador*3}')\n",
    "    contador += 1\n",
    "\n",
    "print(\"\\n Fin de la tabla\")"
   ]
  },
  {
   "cell_type": "markdown",
   "metadata": {},
   "source": [
    "### 1.2. Hacer un programa que repita una frase las veces que se desee, use funciones."
   ]
  },
  {
   "cell_type": "code",
   "execution_count": 5,
   "metadata": {},
   "outputs": [
    {
     "name": "stdout",
     "output_type": "stream",
     "text": [
      "\tIngrese el número de veces que desea repetir la frase = 4\n",
      "\n",
      "\n",
      "Es muy importnate aprender los codigos en computo\n",
      "Es muy importnate aprender los codigos en computo\n",
      "Es muy importnate aprender los codigos en computo\n",
      "Es muy importnate aprender los codigos en computo\n"
     ]
    }
   ],
   "source": [
    "Frase = \"Es muy importnate aprender los codigos en computo\"\n",
    "\n",
    "contador = 0\n",
    "\n",
    "def repetir (n,contador):\n",
    "    while contador < n :\n",
    "        print (Frase)\n",
    "        contador +=1\n",
    "\n",
    "num = int(input('\\tIngrese el número de veces que desea repetir la frase = '))\n",
    "\n",
    "print('\\n')\n",
    "repetir (num,contador)"
   ]
  },
  {
   "cell_type": "markdown",
   "metadata": {},
   "source": [
    "### 1.3 Hacer un programa que solicite ingreso de contraseña:"
   ]
  },
  {
   "cell_type": "code",
   "execution_count": 7,
   "metadata": {},
   "outputs": [
    {
     "name": "stdout",
     "output_type": "stream",
     "text": [
      "Ingresa tu contraseña\n",
      "12\n",
      "Ingresa tu contraseña\n",
      "131313\n",
      "\n",
      " \n",
      " \n",
      " \n",
      " \n",
      " \n",
      " \n",
      " \n",
      " \n",
      " \n",
      " \n",
      " \n",
      " \n",
      " \n",
      " \n",
      "\n",
      "Si lees esto eres gey :v, oc no \n"
     ]
    }
   ],
   "source": [
    "contra = ''\n",
    "\n",
    "while contra != '131313':\n",
    "    print('Ingresa tu contraseña')\n",
    "    contra= input()\n",
    "    \n",
    "print(\"\\n \\n \\n \\n \\n \\n \\n \\n \\n \\n \\n \\n \\n \\n \\n\")\n",
    "print('Si lees esto eres gey :v, oc no ')"
   ]
  },
  {
   "cell_type": "markdown",
   "metadata": {},
   "source": [
    "### 2.-Modificando la finalización del bucle while: break y continue"
   ]
  },
  {
   "cell_type": "markdown",
   "metadata": {},
   "source": [
    "###  2.4.1 .-Uso de break"
   ]
  },
  {
   "cell_type": "markdown",
   "metadata": {},
   "source": [
    "### 2.4.1.1 .-Hacer un programa que valide ingreso de nombre Elpepe :"
   ]
  },
  {
   "cell_type": "code",
   "execution_count": 8,
   "metadata": {},
   "outputs": [
    {
     "name": "stdout",
     "output_type": "stream",
     "text": [
      "Ingrese su nombre : \n",
      "cesar\n",
      "Ingrese su nombre : \n",
      "elpepe\n",
      "\n",
      "\n",
      "Turururu el pepe , tu ru rru runnn el pepe ¡¡¡¡¡¡¡¡¡¡¡\n"
     ]
    }
   ],
   "source": [
    "while True:\n",
    "    print('Ingrese su nombre : ')\n",
    "    name = input()\n",
    "    if name.lower() == 'elpepe':\n",
    "        break\n",
    "\n",
    "print('\\n')\n",
    "print(\"Turururu el pepe , tu ru rru runnn el pepe ¡¡¡¡¡¡¡¡¡¡¡\")"
   ]
  },
  {
   "cell_type": "markdown",
   "metadata": {},
   "source": [
    "###  2.4.2 .-Uso de continue"
   ]
  },
  {
   "cell_type": "markdown",
   "metadata": {},
   "source": [
    "### 2.4.2.1 .-Hacer un programa que valide nombre y contraseña de dos listas respectivamente."
   ]
  },
  {
   "cell_type": "code",
   "execution_count": 13,
   "metadata": {},
   "outputs": [
    {
     "name": "stdout",
     "output_type": "stream",
     "text": [
      "Ingrese su nombre gaaaaa¡¡¡¡: cesar\n",
      "\n",
      "Hola Cesar,ingresa tu contraseña: \n",
      "123\n",
      "\n",
      "\n",
      "Bienvenido a tu subscripcion anual.\n"
     ]
    }
   ],
   "source": [
    "nombre=['gaaaaa','cesar','cristian','manuel','rudy','jhordan','piero']\n",
    "contra=['123','1313', 'vago', 'cualsera', 'soygey']\n",
    "\n",
    "while True:\n",
    "    name=input('Ingrese su nombre gaaaaa¡¡¡¡: ')\n",
    "    if name not in nombre:\n",
    "        continue\n",
    "        \n",
    "    print(f'\\nHola {name.title()},ingresa tu contraseña: ')\n",
    "    \n",
    "    password = input()\n",
    "    if password in contra:\n",
    "        print('\\n')\n",
    "        print(\"Bienvenido a tu subscripcion anual.\")\n",
    "        break\n",
    "        \n",
    "    else:\n",
    "        print(\"Acceso denegado \")\n",
    "        break"
   ]
  },
  {
   "cell_type": "markdown",
   "metadata": {},
   "source": [
    "# Terminando practica 5"
   ]
  }
 ],
 "metadata": {
  "kernelspec": {
   "display_name": "Python 3",
   "language": "python",
   "name": "python3"
  },
  "language_info": {
   "codemirror_mode": {
    "name": "ipython",
    "version": 3
   },
   "file_extension": ".py",
   "mimetype": "text/x-python",
   "name": "python",
   "nbconvert_exporter": "python",
   "pygments_lexer": "ipython3",
   "version": "3.8.12"
  }
 },
 "nbformat": 4,
 "nbformat_minor": 5
}
