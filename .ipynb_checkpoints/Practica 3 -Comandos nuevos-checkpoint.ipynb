{
 "cells": [
  {
   "cell_type": "markdown",
   "metadata": {},
   "source": [
    "# <center> PRACTICA 03"
   ]
  },
  {
   "cell_type": "markdown",
   "metadata": {},
   "source": [
    "## 1.- Introduccion a Listas"
   ]
  },
  {
   "cell_type": "code",
   "execution_count": 5,
   "metadata": {},
   "outputs": [
    {
     "name": "stdout",
     "output_type": "stream",
     "text": [
      "La Frase iniciadacon con la letra:  q\n",
      "La Frase termina con la letra:  i\n"
     ]
    }
   ],
   "source": [
    "cadena = \"Si quieres aprender, enseña. Marco Tulio Ciceron\"\n",
    "\n",
    "print(\"La Frase iniciadacon con la letra: \", cadena[3])\n",
    "print(\"La Frase termina con la letra: \", cadena[-6])"
   ]
  },
  {
   "cell_type": "code",
   "execution_count": 6,
   "metadata": {},
   "outputs": [
    {
     "name": "stdout",
     "output_type": "stream",
     "text": [
      "['Si', 'quieres', 'aprender,', 'enseña.', 'Marco', 'Tulio', 'Ciceron']\n"
     ]
    }
   ],
   "source": [
    "lista_de_cadena = cadena.split()\n",
    "\n",
    "print(lista_de_cadena)"
   ]
  },
  {
   "cell_type": "code",
   "execution_count": 9,
   "metadata": {},
   "outputs": [
    {
     "name": "stdout",
     "output_type": "stream",
     "text": [
      "['Luis', 'Pablo', 'MIli', 'Gabriela', 'Oscar']\n"
     ]
    }
   ],
   "source": [
    "lista_de_nombres = [\"Luis\", \"Pablo\", \"MIli\", \"Gabriela\", \"Oscar\"]\n",
    "\n",
    "print(lista_de_nombres)"
   ]
  },
  {
   "cell_type": "code",
   "execution_count": 2,
   "metadata": {},
   "outputs": [
    {
     "name": "stdout",
     "output_type": "stream",
     "text": [
      "Gabriela\n"
     ]
    }
   ],
   "source": [
    "lista_de_nombres = [\"Luis\", \"Pablo\", \"MIli\", \"Gabriela\", \"Oscar\"]\n",
    "\n",
    "print(lista_de_nombres [3])"
   ]
  },
  {
   "cell_type": "code",
   "execution_count": 14,
   "metadata": {},
   "outputs": [
    {
     "name": "stdout",
     "output_type": "stream",
     "text": [
      "[20, 30, 40, 50, 60]\n",
      "20\n",
      "300\n",
      "40\n",
      "\n",
      "\n",
      "['Luis', 'Pablo', 'MIli', 'Gabriela', 'Oscar']\n",
      "Luis\n",
      "OSCAR\n",
      "MIli\n"
     ]
    }
   ],
   "source": [
    "lista_numeros = [20, 30, 40, 50, 60]\n",
    "\n",
    "print(lista_numeros)\n",
    "\n",
    "print(lista_numeros[0])\n",
    "print(lista_numeros[-1]*5)\n",
    "\n",
    "print(lista_numeros[2])\n",
    "\n",
    "print(\"\\n\")\n",
    "\n",
    "print(lista_de_nombres)\n",
    "print(lista_de_nombres[0].title())\n",
    "print(lista_de_nombres[-1].upper())\n",
    "print(lista_de_nombres[2])"
   ]
  },
  {
   "cell_type": "markdown",
   "metadata": {},
   "source": [
    "## Modificando elementos en una lista, porque la lista es mutable"
   ]
  },
  {
   "cell_type": "code",
   "execution_count": 25,
   "metadata": {},
   "outputs": [
    {
     "name": "stdout",
     "output_type": "stream",
     "text": [
      "['Iphone', 'Sansung', 'Huavei', 'Motorola', 'Xiaomi']\n"
     ]
    }
   ],
   "source": [
    "celulares= [\"Iphone\",\"Sansung\",\"Huavei\", \"Motorola\", \"Xiaomi\"]\n",
    "\n",
    "print(celulares)"
   ]
  },
  {
   "cell_type": "code",
   "execution_count": 26,
   "metadata": {},
   "outputs": [
    {
     "name": "stdout",
     "output_type": "stream",
     "text": [
      "['Iphone', 'Sansung', 'Huavei', 'Motorola', 'Xiaomi']\n",
      "['Iphone', 'Samsung', 'Huawei', 'Motorola', 'Xiaomi']\n"
     ]
    }
   ],
   "source": [
    "celulares= [\"Iphone\",\"Sansung\",\"Huavei\", \"Motorola\", \"Xiaomi\"]\n",
    "print(celulares)\n",
    "\n",
    "celulares[1] = \"Samsung\"\n",
    "celulares[2] = \"Huawei\"\n",
    "\n",
    "print(celulares)"
   ]
  },
  {
   "cell_type": "markdown",
   "metadata": {},
   "source": [
    "## Adicionando elemetos a una lista"
   ]
  },
  {
   "cell_type": "code",
   "execution_count": 29,
   "metadata": {},
   "outputs": [
    {
     "name": "stdout",
     "output_type": "stream",
     "text": [
      "['Iphone', 'Sansung', 'Huavei', 'Motorola', 'Xiaomi', 'lg']\n",
      "['Iphone', 'Sansung', 'Huavei', 'Motorola', 'Xiaomi', 'lg', 'Zte', 'Logic']\n"
     ]
    }
   ],
   "source": [
    "celulares= [\"Iphone\",\"Sansung\",\"Huavei\", \"Motorola\", \"Xiaomi\"]\n",
    "celulares.append(\"lg\")\n",
    "print(celulares)\n",
    "\n",
    "cel = [\"Zte\", \"Logic\"]\n",
    "cel2 = celulares + cel \n",
    "print(cel2)"
   ]
  },
  {
   "cell_type": "markdown",
   "metadata": {},
   "source": [
    "## Borrando elementos de una lista"
   ]
  },
  {
   "cell_type": "code",
   "execution_count": 39,
   "metadata": {},
   "outputs": [
    {
     "name": "stdout",
     "output_type": "stream",
     "text": [
      "\n",
      " Lista de celulares originales\n",
      "['Iphone', 'Sansung', 'Huavei', 'Motorola', 'Xiaomi', 'Lg', 'Zte', 'Logic']\n",
      "\n",
      " Lista borrando el ultimo celular\n",
      "['Iphone', 'Sansung', 'Huavei', 'Motorola', 'Xiaomi', 'Lg', 'Zte']\n",
      "\n",
      " Lista borrando celular Nuevamente\n",
      "['Iphone', 'Sansung', 'Huavei', 'Motorola', 'Lg', 'Zte']\n",
      "\n",
      " Equipo Celular Borrado\n",
      "XIAOMI\n",
      "\n",
      " Lista Borrando celulares LG\n",
      "['Iphone', 'Sansung', 'Huavei', 'Motorola', 'Zte']\n",
      "\n",
      " El celular LG es muy malo para mi\n"
     ]
    }
   ],
   "source": [
    "celulares= [\"Iphone\",\"Sansung\",\"Huavei\", \"Motorola\", \"Xiaomi\", \"Lg\", \"Zte\", \"Logic\"]\n",
    "\n",
    "print(\"\\n Lista de celulares originales\")\n",
    "print (celulares)\n",
    "\n",
    "del celulares[-1]\n",
    "print(\"\\n Lista borrando el ultimo celular\")\n",
    "print(celulares)\n",
    "\n",
    "b_celular = celulares.pop(4)\n",
    "print(\"\\n Lista borrando celular Nuevamente\")\n",
    "print(celulares)\n",
    "print(\"\\n Equipo Celular Borrado\")\n",
    "print(b_celular.upper())\n",
    "\n",
    "c_celulares = \"Lg\"\n",
    "celulares.remove(c_celulares)\n",
    "print(f\"\\n Lista Borrando celulares {c_celulares.upper()}\")\n",
    "print(celulares)\n",
    "print(f\"\\n El celular {c_celulares.upper()} es muy malo para mi\")"
   ]
  },
  {
   "cell_type": "markdown",
   "metadata": {},
   "source": [
    "## Ordenamos una lista :"
   ]
  },
  {
   "cell_type": "code",
   "execution_count": 40,
   "metadata": {},
   "outputs": [
    {
     "name": "stdout",
     "output_type": "stream",
     "text": [
      "\n",
      "Lista Original\n",
      "['Mazda', 'Audi', 'Toyota', 'Subaru', 'Bmw', 'Lamborghini']\n",
      "\n",
      "Lista Ordenada\n",
      "['Audi', 'Bmw', 'Lamborghini', 'Mazda', 'Subaru', 'Toyota']\n",
      "\n",
      "Lista Ordenada a la Inversa\n",
      "['Toyota', 'Subaru', 'Mazda', 'Lamborghini', 'Bmw', 'Audi']\n"
     ]
    }
   ],
   "source": [
    "autos = [\"Mazda\", \"Audi\", \"Toyota\", \"Subaru\", \"Bmw\", \"Lamborghini\"]\n",
    "print(\"\\nLista Original\")\n",
    "print(autos)\n",
    "\n",
    "print(\"\\nLista Ordenada\")\n",
    "autos.sort()   \n",
    "print(autos)\n",
    "\n",
    "print(\"\\nLista Ordenada a la Inversa\")\n",
    "autos.reverse()        \n",
    "print(autos)"
   ]
  },
  {
   "cell_type": "code",
   "execution_count": 42,
   "metadata": {},
   "outputs": [
    {
     "name": "stdout",
     "output_type": "stream",
     "text": [
      "\n",
      "Lista Original\n",
      "[200, 600, 10, 2000, -5, 50, 110, 1500]\n",
      "\n",
      "lista ordenada Temporal\n",
      "[-5, 10, 50, 110, 200, 600, 1500, 2000]\n",
      "\n",
      "Lista Original de nuevo\n",
      "[200, 600, 10, 2000, -5, 50, 110, 1500]\n"
     ]
    }
   ],
   "source": [
    "num = [200, 600, 10, 2000, -5, 50, 110, 1500]\n",
    "print(\"\\nLista Original\" )\n",
    "print(num)\n",
    "\n",
    "\n",
    "print(\"\\nlista ordenada Temporal\")\n",
    "print(sorted(num))    \n",
    "\n",
    "print(\"\\nLista Original de nuevo\")\n",
    "print(num)"
   ]
  },
  {
   "cell_type": "markdown",
   "metadata": {},
   "source": [
    "## Longitud de una lista"
   ]
  },
  {
   "cell_type": "code",
   "execution_count": 43,
   "metadata": {},
   "outputs": [
    {
     "name": "stdout",
     "output_type": "stream",
     "text": [
      "cantidad de autos\n",
      "6\n",
      "\n",
      "Cantidad de numeros\n",
      "8\n"
     ]
    }
   ],
   "source": [
    "print(\"cantidad de autos\")\n",
    "print(len(autos))\n",
    "\n",
    "print(\"\\nCantidad de numeros\")\n",
    "print(len(num))"
   ]
  },
  {
   "cell_type": "markdown",
   "metadata": {},
   "source": [
    "## ..."
   ]
  },
  {
   "cell_type": "markdown",
   "metadata": {},
   "source": [
    "# <center>Estructuras condicionales"
   ]
  },
  {
   "cell_type": "markdown",
   "metadata": {},
   "source": [
    "## 1.-Condiciones Simples"
   ]
  },
  {
   "cell_type": "code",
   "execution_count": 45,
   "metadata": {},
   "outputs": [
    {
     "name": "stdout",
     "output_type": "stream",
     "text": [
      "True\n",
      "False\n"
     ]
    }
   ],
   "source": [
    "x = \"Guido\"\n",
    "\n",
    "print(\"i\" in x)\n",
    "print(\"i\" not in x)"
   ]
  },
  {
   "cell_type": "code",
   "execution_count": 48,
   "metadata": {},
   "outputs": [
    {
     "name": "stdout",
     "output_type": "stream",
     "text": [
      "True\n"
     ]
    }
   ],
   "source": [
    "lista = [\"uva\",\"naranja\",\"pera\",\"manzanas\"]\n",
    "\n",
    "print(\"uva\" in lista)"
   ]
  },
  {
   "cell_type": "code",
   "execution_count": 50,
   "metadata": {},
   "outputs": [
    {
     "name": "stdout",
     "output_type": "stream",
     "text": [
      "100 es igual a 100  ===>>  True\n"
     ]
    }
   ],
   "source": [
    "x = 100\n",
    "y = 100\n",
    "\n",
    "print(x, \"es igual a\", y, \" ===>> \", x==y)\n"
   ]
  },
  {
   "cell_type": "code",
   "execution_count": 52,
   "metadata": {},
   "outputs": [
    {
     "name": "stdout",
     "output_type": "stream",
     "text": [
      "1 < 7 =  True\n",
      "2 < 9 =  False\n",
      "10 == 20 =  False\n",
      "escuela == casa =  False\n",
      "python != java =  True\n"
     ]
    }
   ],
   "source": [
    "print(\"1 < 7 = \", 1<7)      \n",
    "print(\"2 < 9 = \", 2>=9)     \n",
    "print(\"10 == 20 = \", 10 == 20) \n",
    "print(\"escuela == casa = \" , \"escuela\"==\"casa\")   \n",
    "print(\"python != java = \" , \"python\" != \"java\")  "
   ]
  },
  {
   "cell_type": "markdown",
   "metadata": {},
   "source": [
    "## Comando if-else-condicional Simple"
   ]
  },
  {
   "cell_type": "code",
   "execution_count": 53,
   "metadata": {},
   "outputs": [
    {
     "name": "stdout",
     "output_type": "stream",
     "text": [
      "El numero  20 es valido\n",
      "El cuadrado del numero  20 es : 400\n"
     ]
    }
   ],
   "source": [
    "x = 20\n",
    "\n",
    "if x > 0 :                                 \n",
    "    print(\"El numero \",x,\"es valido\")\n",
    "    print(\"El cuadrado del numero \",x,\"es :\" ,x*x)"
   ]
  },
  {
   "cell_type": "markdown",
   "metadata": {},
   "source": [
    "## Comando if-else-condicional"
   ]
  },
  {
   "cell_type": "code",
   "execution_count": 55,
   "metadata": {},
   "outputs": [
    {
     "name": "stdout",
     "output_type": "stream",
     "text": [
      "El numero MAYOR es: 115\n"
     ]
    }
   ],
   "source": [
    "n = 115\n",
    "m = 20\n",
    "\n",
    "if n>m:\n",
    "    print(\"El numero MAYOR es: \" +str(n))\n",
    "else:\n",
    "    print(\"el numero MAYOR es: \" +str(m))"
   ]
  },
  {
   "cell_type": "code",
   "execution_count": 58,
   "metadata": {},
   "outputs": [
    {
     "name": "stdout",
     "output_type": "stream",
     "text": [
      "Ingrese el Primer Numero: 20\n",
      "Ingrese el Segundo Numero: 30\n",
      "Ingrese el Tercer Numero: 40\n",
      "El numero MAYOR es:  40\n",
      "El numero MAYOR es: 40\n"
     ]
    }
   ],
   "source": [
    "a = int(input(\"Ingrese el Primer Numero: \"))\n",
    "b = int(input(\"Ingrese el Segundo Numero: \"))\n",
    "c = int(input(\"Ingrese el Tercer Numero: \"))      \n",
    "\n",
    "if a > b:\n",
    "    if a>c:\n",
    "        m = a\n",
    "    else:\n",
    "        m = c\n",
    "else:\n",
    "    if b > c:\n",
    "        m = b\n",
    "    else:\n",
    "            m = c\n",
    "            \n",
    "print(\"El numero MAYOR es:  \"+str(m)) \n",
    "print(\"El numero MAYOR es: {}\".format(m))"
   ]
  },
  {
   "cell_type": "markdown",
   "metadata": {},
   "source": [
    "## Comando if-elif-else-Condicional encadenado"
   ]
  },
  {
   "cell_type": "code",
   "execution_count": 60,
   "metadata": {},
   "outputs": [
    {
     "name": "stdout",
     "output_type": "stream",
     "text": [
      "Ingrese su Nombre: wlkpkdgh\n",
      "!Que nombre tan extraño!!!!\n"
     ]
    }
   ],
   "source": [
    "nombre = input(\"Ingrese su Nombre: \")\n",
    "\n",
    "if \"a\" in nombre:\n",
    "    print(nombre.title()+\" contiene la vocal a\")\n",
    "elif \"e\" in nombre:\n",
    "    print(nombre.title()+\" contiene la vocal e\")\n",
    "elif \"i\" in nombre:\n",
    "    print(nombre.title()+\" contiene la vocal i\")\n",
    "elif \"o\" in nombre:\n",
    "    print(nombre.title()+\" contiene la vocal o\")\n",
    "elif \"u\" in nombre:\n",
    "    print(nombre.title()+\" contiene la vocal u\")\n",
    "else:\n",
    "    print(\"!Que nombre tan extraño!!!!\")"
   ]
  },
  {
   "cell_type": "markdown",
   "metadata": {},
   "source": [
    "# Finalizando practica 3"
   ]
  }
 ],
 "metadata": {
  "kernelspec": {
   "display_name": "Python 3",
   "language": "python",
   "name": "python3"
  },
  "language_info": {
   "codemirror_mode": {
    "name": "ipython",
    "version": 3
   },
   "file_extension": ".py",
   "mimetype": "text/x-python",
   "name": "python",
   "nbconvert_exporter": "python",
   "pygments_lexer": "ipython3",
   "version": "3.8.12"
  }
 },
 "nbformat": 4,
 "nbformat_minor": 5
}
