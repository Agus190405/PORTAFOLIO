{
 "cells": [
  {
   "cell_type": "markdown",
   "metadata": {},
   "source": [
    "# <center>Practica 6"
   ]
  },
  {
   "cell_type": "markdown",
   "metadata": {},
   "source": [
    "## 1.-Tipicos errores\n"
   ]
  },
  {
   "cell_type": "code",
   "execution_count": 2,
   "metadata": {},
   "outputs": [
    {
     "ename": "ZeroDivisionError",
     "evalue": "division by zero",
     "output_type": "error",
     "traceback": [
      "\u001b[0;31m---------------------------------------------------------------------------\u001b[0m",
      "\u001b[0;31mZeroDivisionError\u001b[0m                         Traceback (most recent call last)",
      "\u001b[0;32m<ipython-input-2-a6878e1d5ca8>\u001b[0m in \u001b[0;36m<module>\u001b[0;34m\u001b[0m\n\u001b[0;32m----> 1\u001b[0;31m \u001b[0;36m1\u001b[0m\u001b[0;34m/\u001b[0m\u001b[0;36m0\u001b[0m\u001b[0;34m\u001b[0m\u001b[0;34m\u001b[0m\u001b[0m\n\u001b[0m\u001b[1;32m      2\u001b[0m \u001b[0mz\u001b[0m\u001b[0;34m=\u001b[0m\u001b[0;36m25\u001b[0m\u001b[0;34m\u001b[0m\u001b[0;34m\u001b[0m\u001b[0m\n\u001b[1;32m      3\u001b[0m \u001b[0mprint\u001b[0m\u001b[0;34m(\u001b[0m\u001b[0mz\u001b[0m\u001b[0;34m)\u001b[0m\u001b[0;34m\u001b[0m\u001b[0;34m\u001b[0m\u001b[0m\n\u001b[1;32m      4\u001b[0m \u001b[0;31m###### como nos damos cuenta abajho este codigo no corre.\u001b[0m\u001b[0;34m\u001b[0m\u001b[0;34m\u001b[0m\u001b[0;34m\u001b[0m\u001b[0m\n",
      "\u001b[0;31mZeroDivisionError\u001b[0m: division by zero"
     ]
    }
   ],
   "source": [
    "1/0\n",
    "z=25\n",
    "print(z)\n",
    "###### como nos damos cuenta abajho este codigo no corre."
   ]
  },
  {
   "cell_type": "code",
   "execution_count": 3,
   "metadata": {},
   "outputs": [
    {
     "name": "stdout",
     "output_type": "stream",
     "text": [
      "3\n",
      "25\n"
     ]
    }
   ],
   "source": [
    "n = int(input())\n",
    "z = 25\n",
    "\n",
    "print(z)"
   ]
  },
  {
   "cell_type": "markdown",
   "metadata": {},
   "source": [
    "## 2.- Validacion de numeros :"
   ]
  },
  {
   "cell_type": "code",
   "execution_count": 31,
   "metadata": {},
   "outputs": [
    {
     "name": "stdout",
     "output_type": "stream",
     "text": [
      "Ingresa un numero:21\n"
     ]
    }
   ],
   "source": [
    "while True:\n",
    "    try:\n",
    "        x=int(input('Ingresa un numero:'))\n",
    "        break\n",
    "    except ValueError:\n",
    "        print('error,escribe bn ps.')\n",
    "        "
   ]
  },
  {
   "cell_type": "code",
   "execution_count": 32,
   "metadata": {},
   "outputs": [
    {
     "name": "stdout",
     "output_type": "stream",
     "text": [
      "Ingresa un numero positivo:-134\n",
      "Que negativo eres.\n",
      "Ingresa un numero positivo:12\n"
     ]
    }
   ],
   "source": [
    "while True:\n",
    "    try:\n",
    "        x=int(input('Ingresa un numero positivo:'))\n",
    "    except ValueError:\n",
    "        print('error,escribe bn ps.')\n",
    "        continue\n",
    "    if x < 0:\n",
    "        print('Que negativo eres.')\n",
    "        continue\n",
    "    break"
   ]
  },
  {
   "cell_type": "markdown",
   "metadata": {},
   "source": [
    "## 3.- Estructura Funciones"
   ]
  },
  {
   "cell_type": "markdown",
   "metadata": {},
   "source": [
    "## 3.1.- Funcion Principal Main "
   ]
  },
  {
   "cell_type": "code",
   "execution_count": 35,
   "metadata": {},
   "outputs": [
    {
     "name": "stdout",
     "output_type": "stream",
     "text": [
      "Inicio del juego \n",
      "Inicio del juego \n",
      "\n",
      " \n",
      " Fin\n"
     ]
    }
   ],
   "source": [
    "def uno():\n",
    "    print('Inicio del juego ')\n",
    "\n",
    "def dos():\n",
    "    pass\n",
    "\n",
    "def fin():\n",
    "    print ('\\n \\n Fin')\n",
    "    \n",
    "if __name__ == '__main__':\n",
    "    uno()\n",
    "    dos()\n",
    "    uno()\n",
    "    dos()\n",
    "    fin()"
   ]
  },
  {
   "cell_type": "markdown",
   "metadata": {},
   "source": [
    "## 3.2 .-Hacer un programa que solicite ingreso de DNI correctamente:\n"
   ]
  },
  {
   "cell_type": "code",
   "execution_count": 4,
   "metadata": {},
   "outputs": [
    {
     "name": "stdout",
     "output_type": "stream",
     "text": [
      "********  Bono familiar, que no me toco  *********\n",
      "\n",
      " \n",
      "\n",
      "Ingresa tu DNI: ==343543543543\n",
      "\tError : Su dni esta mal\n",
      "Ingresa tu DNI: ==83602373\n",
      "\n",
      "\t Su DNI es valido\n",
      "\n",
      " \n",
      " El DNI ingresado es :== 83602373\n"
     ]
    }
   ],
   "source": [
    "def validar_dni():\n",
    "    while True:\n",
    "        try:\n",
    "            dni = int(input('Ingresa tu DNI: =='))\n",
    "            if len(str(dni)) == 8:\n",
    "                print('\\n\\t Su DNI es valido')\n",
    "                break\n",
    "            else:\n",
    "                print('\\tError : Su dni esta mal')\n",
    "                continue\n",
    "        except ValueError:\n",
    "            print('Error escribe bien ps.')\n",
    "    return dni\n",
    "    \n",
    "\n",
    "if __name__ == '__main__':\n",
    "    titulo=('  Bono familiar, que no me toco  ')\n",
    "    print(titulo.center(50,'*'))\n",
    "    print('\\n \\n')\n",
    "    \n",
    "    val_dni=validar_dni()\n",
    "    \n",
    "    print('\\n \\n El DNI ingresado es :==',val_dni)"
   ]
  },
  {
   "cell_type": "markdown",
   "metadata": {},
   "source": [
    "# Terminando Practica 6"
   ]
  }
 ],
 "metadata": {
  "kernelspec": {
   "display_name": "Python 3",
   "language": "python",
   "name": "python3"
  },
  "language_info": {
   "codemirror_mode": {
    "name": "ipython",
    "version": 3
   },
   "file_extension": ".py",
   "mimetype": "text/x-python",
   "name": "python",
   "nbconvert_exporter": "python",
   "pygments_lexer": "ipython3",
   "version": "3.8.12"
  }
 },
 "nbformat": 4,
 "nbformat_minor": 5
}
